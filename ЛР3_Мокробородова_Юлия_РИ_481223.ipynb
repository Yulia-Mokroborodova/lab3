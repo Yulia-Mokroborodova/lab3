{
  "nbformat": 4,
  "nbformat_minor": 0,
  "metadata": {
    "colab": {
      "name": "ЛР3_Мокробородова_Юлия_РИ-481223.ipynb",
      "provenance": [],
      "collapsed_sections": []
    },
    "kernelspec": {
      "name": "python3",
      "display_name": "Python 3"
    },
    "language_info": {
      "name": "python"
    }
  },
  "cells": [
    {
      "cell_type": "markdown",
      "metadata": {
        "id": "labdQpsd66KU"
      },
      "source": [
        "##**Лабораторная работа №3**\n",
        "Мокробородова Юлия\n",
        "РИ-481223\n",
        "\n",
        "##Задание 1"
      ]
    },
    {
      "cell_type": "code",
      "metadata": {
        "id": "c5OfWXCI64m1"
      },
      "source": [
        "import numpy as np\n",
        "import matplotlib.pyplot as plt"
      ],
      "execution_count": 94,
      "outputs": []
    },
    {
      "cell_type": "code",
      "metadata": {
        "id": "POFox5Rg75pm"
      },
      "source": [
        "y = np.array([12.19, 8.41, 14.68, 8.64, 32.94, 22.61, 45.92, 23.63, 18.59, 36.22, \n",
        "              50.10, 46.22, 23.63, 47.30, 40.03, 56.53, 38.41, 51.47, 6.29, 35.41, 67.79, 74.21, 79.12, 45.10])\n",
        "x = np.linspace(0, 1, num = 24)"
      ],
      "execution_count": 95,
      "outputs": []
    },
    {
      "cell_type": "code",
      "metadata": {
        "colab": {
          "base_uri": "https://localhost:8080/",
          "height": 265
        },
        "id": "VkEscioD79pb",
        "outputId": "db7f26de-0cd5-4fb1-ac9a-66f61cc17a0a"
      },
      "source": [
        "plt.scatter(x, y);"
      ],
      "execution_count": 96,
      "outputs": [
        {
          "output_type": "display_data",
          "data": {
            "image/png": "[encoded data removed]",
            "text/plain": [
              "<Figure size 432x288 with 1 Axes>"
            ]
          },
          "metadata": {
            "needs_background": "light"
          }
        }
      ]
    },
    {
      "cell_type": "markdown",
      "metadata": {
        "id": "mtPUQJOBATb4"
      },
      "source": [
        "##Линейная регрессия"
      ]
    },
    {
      "cell_type": "code",
      "metadata": {
        "id": "YfG4faCfN-rS"
      },
      "source": [
        "y = np.array([12.19, 8.41, 14.68, 8.64, 32.94, 22.61, 45.92, 23.63, 18.59, 36.22, \n",
        "              50.10, 46.22, 23.63, 47.30, 40.03, 56.53, 38.41, 51.47, 6.29, 35.41, 67.79, 74.21, 79.12, 45.10])\n",
        "x = np.linspace(0, 1, num = 24).reshape(-1,1)"
      ],
      "execution_count": 201,
      "outputs": []
    },
    {
      "cell_type": "code",
      "metadata": {
        "colab": {
          "base_uri": "https://localhost:8080/"
        },
        "id": "EmpzzROLvxdg",
        "outputId": "e515ef4e-14c4-4865-bde8-b9938d5f8da1"
      },
      "source": [
        "print(x)"
      ],
      "execution_count": 427,
      "outputs": [
        {
          "output_type": "stream",
          "name": "stdout",
          "text": [
            "[[0.        ]\n",
            " [0.04347826]\n",
            " [0.08695652]\n",
            " [0.13043478]\n",
            " [0.17391304]\n",
            " [0.2173913 ]\n",
            " [0.26086957]\n",
            " [0.30434783]\n",
            " [0.34782609]\n",
            " [0.39130435]\n",
            " [0.43478261]\n",
            " [0.47826087]\n",
            " [0.52173913]\n",
            " [0.56521739]\n",
            " [0.60869565]\n",
            " [0.65217391]\n",
            " [0.69565217]\n",
            " [0.73913043]\n",
            " [0.7826087 ]\n",
            " [0.82608696]\n",
            " [0.86956522]\n",
            " [0.91304348]\n",
            " [0.95652174]\n",
            " [1.        ]]\n"
          ]
        }
      ]
    },
    {
      "cell_type": "code",
      "metadata": {
        "colab": {
          "base_uri": "https://localhost:8080/"
        },
        "id": "OfoeJ5Hnv2gD",
        "outputId": "59b9bcfa-490b-45df-abb3-a859f0d1875b"
      },
      "source": [
        "print(y)"
      ],
      "execution_count": 428,
      "outputs": [
        {
          "output_type": "stream",
          "name": "stdout",
          "text": [
            "[12.19  8.41 14.68  8.64 32.94 22.61 45.92 23.63 18.59 36.22 50.1  46.22\n",
            " 23.63 47.3  40.03 56.53 38.41 51.47  6.29 35.41 67.79 74.21 79.12 45.1 ]\n"
          ]
        }
      ]
    },
    {
      "cell_type": "code",
      "metadata": {
        "colab": {
          "base_uri": "https://localhost:8080/"
        },
        "id": "eA-RdDSyBklw",
        "outputId": "94a43edb-b199-4589-c829-0ebc06f12aa2"
      },
      "source": [
        "from sklearn.linear_model import LinearRegression \n",
        "slr = LinearRegression() \n",
        "slr.fit(x, y) \n",
        "y_pred = slr.predict(x) \n",
        "print('Slope: {:.2f}'.format(slr.coef_[0]))\n",
        "print('Intercept: {:.2f}'.format(slr.intercept_))"
      ],
      "execution_count": 202,
      "outputs": [
        {
          "output_type": "stream",
          "name": "stdout",
          "text": [
            "Slope: 46.51\n",
            "Intercept: 13.64\n"
          ]
        }
      ]
    },
    {
      "cell_type": "code",
      "metadata": {
        "colab": {
          "base_uri": "https://localhost:8080/",
          "height": 282
        },
        "id": "gPH_7Z-tA4uW",
        "outputId": "d24e6040-a839-4819-a50f-c828c7999844"
      },
      "source": [
        "plt.scatter(x, y)\n",
        "plt.plot(x, slr.predict(x), color='red', linewidth=2)"
      ],
      "execution_count": 203,
      "outputs": [
        {
          "output_type": "execute_result",
          "data": {
            "text/plain": [
              "[<matplotlib.lines.Line2D at 0x7ff6427bafd0>]"
            ]
          },
          "metadata": {},
          "execution_count": 203
        },
        {
          "output_type": "display_data",
          "data": {
            "image/png": "[encoded data removed]",
            "text/plain": [
              "<Figure size 432x288 with 1 Axes>"
            ]
          },
          "metadata": {
            "needs_background": "light"
          }
        }
      ]
    },
    {
      "cell_type": "code",
      "metadata": {
        "id": "3gPVd0-wJ_l6"
      },
      "source": [
        "from sklearn.metrics import mean_squared_error"
      ],
      "execution_count": 204,
      "outputs": []
    },
    {
      "cell_type": "code",
      "metadata": {
        "colab": {
          "base_uri": "https://localhost:8080/"
        },
        "id": "nnQp51_GKBHW",
        "outputId": "04accce2-12a0-4c69-b06e-14f8df4cb4b4"
      },
      "source": [
        "mean_squared_error(x, y_pred)"
      ],
      "execution_count": 209,
      "outputs": [
        {
          "output_type": "execute_result",
          "data": {
            "text/plain": [
              "1512.0847394045893"
            ]
          },
          "metadata": {},
          "execution_count": 209
        }
      ]
    },
    {
      "cell_type": "markdown",
      "metadata": {
        "id": "5ym_2JnT-Ure"
      },
      "source": [
        "##Полином 2-й степени"
      ]
    },
    {
      "cell_type": "code",
      "metadata": {
        "id": "JYqVWzKwH-6I"
      },
      "source": [
        "y = np.array([12.19, 8.41, 14.68, 8.64, 32.94, 22.61, 45.92, 23.63, 18.59, 36.22, 50.10, 46.22, 23.63, 47.30, 40.03, 56.53, 38.41, 51.47, 6.29, 35.41, 67.79, 74.21, 79.12, 45.10])\n",
        "x = np.linspace(0, 1, num = 24)"
      ],
      "execution_count": 107,
      "outputs": []
    },
    {
      "cell_type": "code",
      "metadata": {
        "id": "ZJt7ODMg8AVc"
      },
      "source": [
        "X = list(zip(np.ones(24), x, x*x))"
      ],
      "execution_count": 108,
      "outputs": []
    },
    {
      "cell_type": "code",
      "metadata": {
        "id": "k7IcBfEZ8BEK"
      },
      "source": [
        "W = np.linalg.lstsq(X, y, rcond=None)[0]"
      ],
      "execution_count": 109,
      "outputs": []
    },
    {
      "cell_type": "code",
      "metadata": {
        "colab": {
          "base_uri": "https://localhost:8080/"
        },
        "id": "CKuJzmrG8G0K",
        "outputId": "c92f24bb-d595-4337-ff9b-251b66ada82a"
      },
      "source": [
        "W"
      ],
      "execution_count": 93,
      "outputs": [
        {
          "output_type": "execute_result",
          "data": {
            "text/plain": [
              "array([   5.65033333,  143.52996465, -233.63225758,  149.68562626])"
            ]
          },
          "metadata": {},
          "execution_count": 93
        }
      ]
    },
    {
      "cell_type": "code",
      "metadata": {
        "id": "ARvQ_u5c8IJT"
      },
      "source": [
        "def f(x, w): \n",
        "    return w[0] + w[1]*x + w[2]*x*x"
      ],
      "execution_count": 31,
      "outputs": []
    },
    {
      "cell_type": "code",
      "metadata": {
        "colab": {
          "base_uri": "https://localhost:8080/"
        },
        "id": "a1fYpNcj8Lfy",
        "outputId": "886fddd0-06c5-4f06-92f5-ac3bb92688a6"
      },
      "source": [
        "f(x, W)"
      ],
      "execution_count": 32,
      "outputs": [
        {
          "output_type": "execute_result",
          "data": {
            "text/plain": [
              "array([12.1867    , 14.5875087 , 16.95389842, 19.28586917, 21.58342095,\n",
              "       23.84655375, 26.07526759, 28.26956245, 30.42943834, 32.55489526,\n",
              "       34.6459332 , 36.70255217, 38.72475217, 40.7125332 , 42.66589526,\n",
              "       44.58483834, 46.46936245, 48.31946759, 50.13515375, 51.91642095,\n",
              "       53.66326917, 55.37569842, 57.0537087 , 58.6973    ])"
            ]
          },
          "metadata": {},
          "execution_count": 32
        }
      ]
    },
    {
      "cell_type": "code",
      "metadata": {
        "colab": {
          "base_uri": "https://localhost:8080/",
          "height": 265
        },
        "id": "ukayugcc8N32",
        "outputId": "8bd8f8bf-c7ff-4f04-f3e7-8739a4d680f6"
      },
      "source": [
        "plt.scatter(x, y, label='train set')\n",
        "plt.plot(x, f(x, W), label='quad lstsq')\n",
        "plt.legend();"
      ],
      "execution_count": 33,
      "outputs": [
        {
          "output_type": "display_data",
          "data": {
            "image/png": "[encoded data removed]",
            "text/plain": [
              "<Figure size 432x288 with 1 Axes>"
            ]
          },
          "metadata": {
            "needs_background": "light"
          }
        }
      ]
    },
    {
      "cell_type": "code",
      "metadata": {
        "id": "zwvBgfKq8Q5M"
      },
      "source": [
        "from sklearn.metrics import mean_squared_error"
      ],
      "execution_count": 125,
      "outputs": []
    },
    {
      "cell_type": "code",
      "metadata": {
        "colab": {
          "base_uri": "https://localhost:8080/"
        },
        "id": "16YfYCfv8Tk6",
        "outputId": "092d4fa1-294d-4517-cd55-f9a4b23076fd"
      },
      "source": [
        "mean_squared_error(y, f(x, W))"
      ],
      "execution_count": 126,
      "outputs": [
        {
          "output_type": "execute_result",
          "data": {
            "text/plain": [
              "218.24309186403494"
            ]
          },
          "metadata": {},
          "execution_count": 126
        }
      ]
    },
    {
      "cell_type": "markdown",
      "metadata": {
        "id": "UMgtUyNy-bol"
      },
      "source": [
        "##Полином 3-й степени"
      ]
    },
    {
      "cell_type": "code",
      "metadata": {
        "id": "i8Oy0qsT_Oak"
      },
      "source": [
        "from sklearn.preprocessing import PolynomialFeatures"
      ],
      "execution_count": 44,
      "outputs": []
    },
    {
      "cell_type": "code",
      "metadata": {
        "id": "1yrIXvrC-fS5"
      },
      "source": [
        "X = list(zip(np.ones(24), x, x*x, x*x*x))"
      ],
      "execution_count": 45,
      "outputs": []
    },
    {
      "cell_type": "code",
      "metadata": {
        "id": "ymkM7vMd-jTX"
      },
      "source": [
        "W = np.linalg.lstsq(X, y, rcond=None)[0]"
      ],
      "execution_count": 46,
      "outputs": []
    },
    {
      "cell_type": "code",
      "metadata": {
        "colab": {
          "base_uri": "https://localhost:8080/"
        },
        "id": "P67jRs0M-nqB",
        "outputId": "7006129d-bd5e-40b8-ed85-3ee73f0e5863"
      },
      "source": [
        "W"
      ],
      "execution_count": 47,
      "outputs": [
        {
          "output_type": "execute_result",
          "data": {
            "text/plain": [
              "array([   5.65033333,  143.52996465, -233.63225758,  149.68562626])"
            ]
          },
          "metadata": {},
          "execution_count": 47
        }
      ]
    },
    {
      "cell_type": "code",
      "metadata": {
        "id": "KA56TWQn-rJt"
      },
      "source": [
        "def f(x, w): \n",
        "    return w[0] + w[1]*x + w[2]*x*x + w[3]*x*x*x"
      ],
      "execution_count": 48,
      "outputs": []
    },
    {
      "cell_type": "code",
      "metadata": {
        "colab": {
          "base_uri": "https://localhost:8080/"
        },
        "id": "A3K3YITv-0fN",
        "outputId": "ecd4df56-9bcc-42a2-85d6-ebdf98573d46"
      },
      "source": [
        "f(x, W)"
      ],
      "execution_count": 49,
      "outputs": [
        {
          "output_type": "execute_result",
          "data": {
            "text/plain": [
              "array([ 5.65033333, 11.46142029, 16.46302503, 20.72896311, 24.33305007,\n",
              "       27.34910145, 29.85093281, 31.91235968, 33.60719763, 35.00926219,\n",
              "       36.19236891, 37.23033333, 38.19697101, 39.1660975 , 40.21152833,\n",
              "       41.40707905, 42.82656522, 44.54380237, 46.63260606, 49.16679183,\n",
              "       52.22017523, 55.86657181, 60.1797971 , 65.23366667])"
            ]
          },
          "metadata": {},
          "execution_count": 49
        }
      ]
    },
    {
      "cell_type": "code",
      "metadata": {
        "colab": {
          "base_uri": "https://localhost:8080/",
          "height": 265
        },
        "id": "aAxqYoQh-3vk",
        "outputId": "46fdbbeb-feea-4cc8-f0fb-64979ca64b64"
      },
      "source": [
        "plt.scatter(x, y, label='train set')\n",
        "plt.plot(x, f(x, W), label='quad lstsq')\n",
        "plt.legend();"
      ],
      "execution_count": 50,
      "outputs": [
        {
          "output_type": "display_data",
          "data": {
            "image/png": "[encoded data removed]",
            "text/plain": [
              "<Figure size 432x288 with 1 Axes>"
            ]
          },
          "metadata": {
            "needs_background": "light"
          }
        }
      ]
    },
    {
      "cell_type": "code",
      "metadata": {
        "id": "z78fi6Tv_ziY"
      },
      "source": [
        "from sklearn.metrics import mean_squared_error"
      ],
      "execution_count": 51,
      "outputs": []
    },
    {
      "cell_type": "code",
      "metadata": {
        "colab": {
          "base_uri": "https://localhost:8080/"
        },
        "id": "BKcI_cQa_3K3",
        "outputId": "46d886d1-b8ac-4e01-a802-3a107cccab21"
      },
      "source": [
        "mean_squared_error(y, f(x, W))"
      ],
      "execution_count": 52,
      "outputs": [
        {
          "output_type": "execute_result",
          "data": {
            "text/plain": [
              "202.513036590909"
            ]
          },
          "metadata": {},
          "execution_count": 52
        }
      ]
    },
    {
      "cell_type": "markdown",
      "metadata": {
        "id": "6iH4J8SIELpn"
      },
      "source": [
        "## Экспонента"
      ]
    },
    {
      "cell_type": "code",
      "metadata": {
        "id": "YmK5p_8iIw9z"
      },
      "source": [
        "y = np.array([12.19, 8.41, 14.68, 8.64, 32.94, 22.61, 45.92, 23.63, 18.59, 36.22, 50.10, 46.22, 23.63, 47.30, 40.03, 56.53, 38.41, 51.47, 6.29, 35.41, 67.79, 74.21, 79.12, 45.10])\n",
        "x = np.linspace(0, 1, num = 24)"
      ],
      "execution_count": 116,
      "outputs": []
    },
    {
      "cell_type": "code",
      "metadata": {
        "id": "n2uEY5lfELNx"
      },
      "source": [
        "X = list(zip(np.ones(24), np.exp(x)))"
      ],
      "execution_count": 117,
      "outputs": []
    },
    {
      "cell_type": "code",
      "metadata": {
        "id": "oDN2xrCjF-px"
      },
      "source": [
        "W = np.linalg.lstsq(X, y, rcond=None)[0]"
      ],
      "execution_count": 118,
      "outputs": []
    },
    {
      "cell_type": "code",
      "metadata": {
        "colab": {
          "base_uri": "https://localhost:8080/"
        },
        "id": "Ez0LJewwIIx4",
        "outputId": "959186bd-d9ab-488f-9777-cef5b6949c1c"
      },
      "source": [
        "W"
      ],
      "execution_count": 119,
      "outputs": [
        {
          "output_type": "execute_result",
          "data": {
            "text/plain": [
              "array([-9.42279902, 26.85911292])"
            ]
          },
          "metadata": {},
          "execution_count": 119
        }
      ]
    },
    {
      "cell_type": "code",
      "metadata": {
        "id": "0_H7C-iKIQJx"
      },
      "source": [
        "def f(x, w): \n",
        "    return w[0] + w[1]*np.exp(x)"
      ],
      "execution_count": 120,
      "outputs": []
    },
    {
      "cell_type": "code",
      "metadata": {
        "colab": {
          "base_uri": "https://localhost:8080/"
        },
        "id": "rSkdEIp-IU7U",
        "outputId": "6cfded82-e29e-4062-a8fe-f19764855923"
      },
      "source": [
        "f(x, W)"
      ],
      "execution_count": 121,
      "outputs": [
        {
          "output_type": "execute_result",
          "data": {
            "text/plain": [
              "array([17.43631391, 18.62986007, 19.87644418, 21.17842312, 22.53825847,\n",
              "       23.95852121, 25.44189658, 26.99118913, 28.60932804, 30.29937266,\n",
              "       32.06451828, 33.90810219, 35.83360996, 37.84468208, 39.9451208 ,\n",
              "       42.13889731, 44.43015931, 46.82323878, 49.32266021, 51.93314915,\n",
              "       54.65964115, 57.50729105, 60.4814828 , 63.58783957])"
            ]
          },
          "metadata": {},
          "execution_count": 121
        }
      ]
    },
    {
      "cell_type": "code",
      "metadata": {
        "colab": {
          "base_uri": "https://localhost:8080/",
          "height": 265
        },
        "id": "63xJysWuIbAv",
        "outputId": "fde81318-dea6-4472-9b5c-09189b9c134e"
      },
      "source": [
        "plt.scatter(x, y, label='train set')\n",
        "plt.plot(x, f(x, W), label='quad lstsq')\n",
        "plt.legend();"
      ],
      "execution_count": 122,
      "outputs": [
        {
          "output_type": "display_data",
          "data": {
            "image/png": "[encoded data removed]",
            "text/plain": [
              "<Figure size 432x288 with 1 Axes>"
            ]
          },
          "metadata": {
            "needs_background": "light"
          }
        }
      ]
    },
    {
      "cell_type": "code",
      "metadata": {
        "colab": {
          "base_uri": "https://localhost:8080/"
        },
        "id": "hsO7kFCwIi9x",
        "outputId": "8ba74c87-e966-4af8-d192-7c4c906fe079"
      },
      "source": [
        "mean_squared_error(y, f(x, W))"
      ],
      "execution_count": 123,
      "outputs": [
        {
          "output_type": "execute_result",
          "data": {
            "text/plain": [
              "218.24309186403494"
            ]
          },
          "metadata": {},
          "execution_count": 123
        }
      ]
    },
    {
      "cell_type": "markdown",
      "metadata": {
        "id": "HCGznrPF8p85"
      },
      "source": [
        "### Задание 2"
      ]
    },
    {
      "cell_type": "markdown",
      "metadata": {
        "id": "222JntE2V6M3"
      },
      "source": [
        "###sklearn.linear_model.LinearRegression\n"
      ]
    },
    {
      "cell_type": "code",
      "metadata": {
        "id": "zZYzUH6V8pLH"
      },
      "source": [
        "from sklearn import datasets, linear_model\n",
        "from sklearn.metrics import mean_squared_error, r2_score,accuracy_score\n",
        "import pandas as pd\n",
        "import matplotlib.pyplot as plt\n",
        "import numpy as np\n",
        "\n",
        "diabetes_X, diabetes_y = datasets.load_diabetes(return_X_y=True)"
      ],
      "execution_count": 217,
      "outputs": []
    },
    {
      "cell_type": "code",
      "metadata": {
        "id": "JvBPiId4sURZ"
      },
      "source": [
        "diabetes_X = diabetes_X[:, np.newaxis, 2]"
      ],
      "execution_count": 373,
      "outputs": []
    },
    {
      "cell_type": "code",
      "metadata": {
        "id": "qsUVdscmPMUE"
      },
      "source": [
        "X_train = diabetes_X[:-10]\n",
        "X_test = diabetes_X[-10:]"
      ],
      "execution_count": 374,
      "outputs": []
    },
    {
      "cell_type": "code",
      "metadata": {
        "id": "DGgPqorAR9g0"
      },
      "source": [
        "y_train = diabetes_y[:-10]\n",
        "y_test = diabetes_y[-10:]"
      ],
      "execution_count": 375,
      "outputs": []
    },
    {
      "cell_type": "code",
      "metadata": {
        "id": "rI8UFX_dP-oV"
      },
      "source": [
        "regr = linear_model.LinearRegression()"
      ],
      "execution_count": 376,
      "outputs": []
    },
    {
      "cell_type": "code",
      "metadata": {
        "colab": {
          "base_uri": "https://localhost:8080/"
        },
        "id": "ZfoikzILQshM",
        "outputId": "d30cc9db-b62d-444f-de26-96a4a0ddc034"
      },
      "source": [
        "regr.fit(X_train, y_train)"
      ],
      "execution_count": 377,
      "outputs": [
        {
          "output_type": "execute_result",
          "data": {
            "text/plain": [
              "LinearRegression(copy_X=True, fit_intercept=True, n_jobs=None, normalize=False)"
            ]
          },
          "metadata": {},
          "execution_count": 377
        }
      ]
    },
    {
      "cell_type": "code",
      "metadata": {
        "id": "MDyYPDeiQvMs"
      },
      "source": [
        "y_pred = regr.predict(X_test)"
      ],
      "execution_count": 378,
      "outputs": []
    },
    {
      "cell_type": "code",
      "metadata": {
        "colab": {
          "base_uri": "https://localhost:8080/"
        },
        "id": "lr5p_JfiTSMR",
        "outputId": "0f26ca73-9d87-421b-9ab1-c85b8c162931"
      },
      "source": [
        "print(regr.coef_)"
      ],
      "execution_count": 379,
      "outputs": [
        {
          "output_type": "stream",
          "name": "stdout",
          "text": [
            "[941.79757086]\n"
          ]
        }
      ]
    },
    {
      "cell_type": "code",
      "metadata": {
        "colab": {
          "base_uri": "https://localhost:8080/"
        },
        "id": "1fKplEctTc99",
        "outputId": "3c8db331-99a1-4e18-ea85-08407cec97ba"
      },
      "source": [
        "print(r2_score(y_test, y_pred))"
      ],
      "execution_count": 380,
      "outputs": [
        {
          "output_type": "stream",
          "name": "stdout",
          "text": [
            "0.3972027841396436\n"
          ]
        }
      ]
    },
    {
      "cell_type": "code",
      "metadata": {
        "colab": {
          "base_uri": "https://localhost:8080/"
        },
        "id": "-K5ljkAzSs6e",
        "outputId": "c2b1563a-4a0e-4afb-cca8-59e5dc89e971"
      },
      "source": [
        "mean_squared_error(y_test, y_pred)"
      ],
      "execution_count": 381,
      "outputs": [
        {
          "output_type": "execute_result",
          "data": {
            "text/plain": [
              "2118.597122834967"
            ]
          },
          "metadata": {},
          "execution_count": 381
        }
      ]
    },
    {
      "cell_type": "code",
      "metadata": {
        "colab": {
          "base_uri": "https://localhost:8080/",
          "height": 265
        },
        "id": "GwSU7ODOQ9sD",
        "outputId": "b8c946e0-75d0-462d-c924-5d43cf017720"
      },
      "source": [
        "plt.scatter(X_test, y_test)\n",
        "plt.plot(X_test, y_pred, linewidth=3)\n",
        "\n",
        "plt.show()"
      ],
      "execution_count": 387,
      "outputs": [
        {
          "output_type": "display_data",
          "data": {
            "image/png": "[encoded data removed]",
            "text/plain": [
              "<Figure size 432x288 with 1 Axes>"
            ]
          },
          "metadata": {
            "needs_background": "light"
          }
        }
      ]
    },
    {
      "cell_type": "markdown",
      "metadata": {
        "id": "cKVjH9mmVuIu"
      },
      "source": [
        "###sklearn.linear_model.Ridge\n",
        "\n"
      ]
    },
    {
      "cell_type": "code",
      "metadata": {
        "id": "DiTEFoe0YHuF"
      },
      "source": [
        "ridge_regr = linear_model.Ridge(alpha=0.5)"
      ],
      "execution_count": 408,
      "outputs": []
    },
    {
      "cell_type": "code",
      "metadata": {
        "colab": {
          "base_uri": "https://localhost:8080/"
        },
        "id": "R-EUZgk2YOk7",
        "outputId": "e8a48eb3-7680-4188-930c-06013e608c3c"
      },
      "source": [
        "ridge_regr.fit(X_train, y_train)"
      ],
      "execution_count": 409,
      "outputs": [
        {
          "output_type": "execute_result",
          "data": {
            "text/plain": [
              "Ridge(alpha=0.5, copy_X=True, fit_intercept=True, max_iter=None,\n",
              "      normalize=False, random_state=None, solver='auto', tol=0.001)"
            ]
          },
          "metadata": {},
          "execution_count": 409
        }
      ]
    },
    {
      "cell_type": "code",
      "metadata": {
        "id": "GlP6KdIkYf6n"
      },
      "source": [
        "y_pred = ridge_regr.predict(X_test)"
      ],
      "execution_count": 410,
      "outputs": []
    },
    {
      "cell_type": "code",
      "metadata": {
        "colab": {
          "base_uri": "https://localhost:8080/"
        },
        "id": "XQjKJyq8Ypze",
        "outputId": "ab630655-296b-423e-aa60-9917246fd17f"
      },
      "source": [
        "print(ridge_regr.coef_)"
      ],
      "execution_count": 411,
      "outputs": [
        {
          "output_type": "stream",
          "name": "stdout",
          "text": [
            "[623.51354005]\n"
          ]
        }
      ]
    },
    {
      "cell_type": "code",
      "metadata": {
        "colab": {
          "base_uri": "https://localhost:8080/"
        },
        "id": "TLUvs8BZY9nV",
        "outputId": "291cf6a3-b35f-48ec-92fc-c352155e1b92"
      },
      "source": [
        "r2_score(y_test, y_pred)"
      ],
      "execution_count": 412,
      "outputs": [
        {
          "output_type": "execute_result",
          "data": {
            "text/plain": [
              "0.19780548386433372"
            ]
          },
          "metadata": {},
          "execution_count": 412
        }
      ]
    },
    {
      "cell_type": "code",
      "metadata": {
        "colab": {
          "base_uri": "https://localhost:8080/"
        },
        "id": "fBmRnp1XZIQD",
        "outputId": "ac973854-0161-469c-ce9d-62123a2978d3"
      },
      "source": [
        "mean_squared_error(y_test,y_pred)"
      ],
      "execution_count": 413,
      "outputs": [
        {
          "output_type": "execute_result",
          "data": {
            "text/plain": [
              "2819.400868355574"
            ]
          },
          "metadata": {},
          "execution_count": 413
        }
      ]
    },
    {
      "cell_type": "code",
      "metadata": {
        "colab": {
          "base_uri": "https://localhost:8080/",
          "height": 265
        },
        "id": "o6omt_fvaYFA",
        "outputId": "bc3e5353-ca8a-447b-d25c-a08f439d2124"
      },
      "source": [
        "plt.scatter(X_test, y_test)\n",
        "plt.plot(X_test, y_pred, color='blue', linewidth=3)\n",
        "\n",
        "plt.show()"
      ],
      "execution_count": 414,
      "outputs": [
        {
          "output_type": "display_data",
          "data": {
            "image/png": "[encoded data removed]",
            "text/plain": [
              "<Figure size 432x288 with 1 Axes>"
            ]
          },
          "metadata": {
            "needs_background": "light"
          }
        }
      ]
    },
    {
      "cell_type": "markdown",
      "metadata": {
        "id": "to_nwU3AaKvA"
      },
      "source": [
        "##sklearn.linear_model.Lasso\n"
      ]
    },
    {
      "cell_type": "code",
      "metadata": {
        "id": "Y04xks_eaB4l"
      },
      "source": [
        "lasso_regr = linear_model.Lasso(alpha=0.001)"
      ],
      "execution_count": 395,
      "outputs": []
    },
    {
      "cell_type": "code",
      "metadata": {
        "colab": {
          "base_uri": "https://localhost:8080/"
        },
        "id": "5cJOiQ4vhiZC",
        "outputId": "febe64ed-ec42-407b-bef6-ccc0c9fac175"
      },
      "source": [
        "lasso_regr.fit(X_train, y_train)"
      ],
      "execution_count": 396,
      "outputs": [
        {
          "output_type": "execute_result",
          "data": {
            "text/plain": [
              "Lasso(alpha=0.001, copy_X=True, fit_intercept=True, max_iter=1000,\n",
              "      normalize=False, positive=False, precompute=False, random_state=None,\n",
              "      selection='cyclic', tol=0.0001, warm_start=False)"
            ]
          },
          "metadata": {},
          "execution_count": 396
        }
      ]
    },
    {
      "cell_type": "code",
      "metadata": {
        "id": "u0M-CsW-hsYZ"
      },
      "source": [
        "y_pred = lasso_regr.predict(X_test)"
      ],
      "execution_count": 397,
      "outputs": []
    },
    {
      "cell_type": "code",
      "metadata": {
        "colab": {
          "base_uri": "https://localhost:8080/"
        },
        "id": "BFzs4e6Ph1ji",
        "outputId": "34517b5d-10b8-406f-fe43-a2898cc7271f"
      },
      "source": [
        "print(lasso_regr.coef_)"
      ],
      "execution_count": 398,
      "outputs": [
        {
          "output_type": "stream",
          "name": "stdout",
          "text": [
            "[941.35652606]\n"
          ]
        }
      ]
    },
    {
      "cell_type": "code",
      "metadata": {
        "colab": {
          "base_uri": "https://localhost:8080/"
        },
        "id": "CgHr07h0iwD8",
        "outputId": "9a970bc0-aacd-49f6-ac37-baac5ff71751"
      },
      "source": [
        "r2_score(y_test, y_pred)"
      ],
      "execution_count": 399,
      "outputs": [
        {
          "output_type": "execute_result",
          "data": {
            "text/plain": [
              "0.3970084812954232"
            ]
          },
          "metadata": {},
          "execution_count": 399
        }
      ]
    },
    {
      "cell_type": "code",
      "metadata": {
        "colab": {
          "base_uri": "https://localhost:8080/"
        },
        "id": "2Ck1mk4ii66W",
        "outputId": "832f7031-4b62-4bc2-833b-5a85173c807f"
      },
      "source": [
        "mean_squared_error(y_test,y_pred)"
      ],
      "execution_count": 400,
      "outputs": [
        {
          "output_type": "execute_result",
          "data": {
            "text/plain": [
              "2119.2800215542925"
            ]
          },
          "metadata": {},
          "execution_count": 400
        }
      ]
    },
    {
      "cell_type": "code",
      "metadata": {
        "colab": {
          "base_uri": "https://localhost:8080/",
          "height": 265
        },
        "id": "c65UQwo3skYX",
        "outputId": "3de55825-2211-43b2-be6a-d48fd7ccf61e"
      },
      "source": [
        "plt.scatter(X_test, y_test)\n",
        "plt.plot(X_test, y_pred, color='blue', linewidth=3)\n",
        "\n",
        "plt.show()"
      ],
      "execution_count": 401,
      "outputs": [
        {
          "output_type": "display_data",
          "data": {
            "image/png": "[encoded data removed]",
            "text/plain": [
              "<Figure size 432x288 with 1 Axes>"
            ]
          },
          "metadata": {
            "needs_background": "light"
          }
        }
      ]
    },
    {
      "cell_type": "markdown",
      "metadata": {
        "id": "zxTk22U1jC5x"
      },
      "source": [
        "###sklearn.linear_model.ElasticNet\n"
      ]
    },
    {
      "cell_type": "code",
      "metadata": {
        "id": "mQz36G7inlSU"
      },
      "source": [
        "EN_regr = linear_model.ElasticNet(alpha=0.001)"
      ],
      "execution_count": 421,
      "outputs": []
    },
    {
      "cell_type": "code",
      "metadata": {
        "colab": {
          "base_uri": "https://localhost:8080/"
        },
        "id": "-wiWaYo9q2hk",
        "outputId": "f8c533f3-babf-4225-b16c-be2602d4df23"
      },
      "source": [
        "EN_regr.fit(X_train, y_train)"
      ],
      "execution_count": 422,
      "outputs": [
        {
          "output_type": "execute_result",
          "data": {
            "text/plain": [
              "ElasticNet(alpha=0.001, copy_X=True, fit_intercept=True, l1_ratio=0.5,\n",
              "           max_iter=1000, normalize=False, positive=False, precompute=False,\n",
              "           random_state=None, selection='cyclic', tol=0.0001, warm_start=False)"
            ]
          },
          "metadata": {},
          "execution_count": 422
        }
      ]
    },
    {
      "cell_type": "code",
      "metadata": {
        "colab": {
          "base_uri": "https://localhost:8080/"
        },
        "id": "y9XpnuE4q9GD",
        "outputId": "e8d7e69e-06d4-46f2-cf7f-49955720ad8e"
      },
      "source": [
        "y_pred = EN_regr.predict(X_test)\n",
        "print(EN_regr.coef_)"
      ],
      "execution_count": 423,
      "outputs": [
        {
          "output_type": "stream",
          "name": "stdout",
          "text": [
            "[771.45413281]\n"
          ]
        }
      ]
    },
    {
      "cell_type": "code",
      "metadata": {
        "colab": {
          "base_uri": "https://localhost:8080/"
        },
        "id": "eWwIH5V9rA__",
        "outputId": "3d9212b6-cfde-4400-b256-3fe236a25fe8"
      },
      "source": [
        "r2_score(y_test, y_pred)"
      ],
      "execution_count": 424,
      "outputs": [
        {
          "output_type": "execute_result",
          "data": {
            "text/plain": [
              "0.30522806153701176"
            ]
          },
          "metadata": {},
          "execution_count": 424
        }
      ]
    },
    {
      "cell_type": "code",
      "metadata": {
        "colab": {
          "base_uri": "https://localhost:8080/"
        },
        "id": "rWAIiYIxrUXt",
        "outputId": "24efd37b-c0a1-4871-b3a6-fc9fa9e6f04a"
      },
      "source": [
        "mean_squared_error(y_test,y_pred)"
      ],
      "execution_count": 425,
      "outputs": [
        {
          "output_type": "execute_result",
          "data": {
            "text/plain": [
              "2441.852402641403"
            ]
          },
          "metadata": {},
          "execution_count": 425
        }
      ]
    },
    {
      "cell_type": "code",
      "metadata": {
        "colab": {
          "base_uri": "https://localhost:8080/",
          "height": 265
        },
        "id": "NLfnq_C6snYv",
        "outputId": "4f0f1b06-8e69-416c-bc7e-9f876742d51f"
      },
      "source": [
        "plt.scatter(X_test, y_test)\n",
        "plt.plot(X_test, y_pred, color='blue', linewidth=3)\n",
        "\n",
        "plt.show()"
      ],
      "execution_count": 426,
      "outputs": [
        {
          "output_type": "display_data",
          "data": {
            "image/png": "[encoded data removed]",
            "text/plain": [
              "<Figure size 432x288 with 1 Axes>"
            ]
          },
          "metadata": {
            "needs_background": "light"
          }
        }
      ]
    },
    {
      "cell_type": "markdown",
      "metadata": {
        "id": "lRv9kogrxSpz"
      },
      "source": [
        "По показателям MSE наивысший результат показала модель Ridge, наименьший показатель имеет - LinearRegression"
      ]
    }
  ]
}